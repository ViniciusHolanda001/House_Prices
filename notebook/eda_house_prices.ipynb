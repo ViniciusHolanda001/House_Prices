{
 "cells": [
  {
   "cell_type": "markdown",
   "metadata": {},
   "source": [
    "# Exploratory Analysis"
   ]
  },
  {
   "cell_type": "code",
   "execution_count": null,
   "metadata": {},
   "outputs": [],
   "source": [
    "import os\n",
    "import math\n",
    "import numpy as np\n",
    "import pandas as pd\n",
    "from glob import glob\n",
    "import seaborn as sns\n",
    "from scipy import stats\n",
    "from pathlib import Path\n",
    "import matplotlib.pyplot as plt\n",
    "from scipy.stats import norm, skew\n",
    "\n",
    "%matplotlib inline\n",
    "pd.set_option(\"display.max_columns\", None)\n",
    "pd.set_option(\"display.max_rows\", None)"
   ]
  },
  {
   "cell_type": "code",
   "execution_count": null,
   "metadata": {},
   "outputs": [],
   "source": [
    "data_path = Path(\"eda_house_prices.ipynb\").parent.parent.resolve().parent\n",
    "data_path"
   ]
  },
  {
   "cell_type": "code",
   "execution_count": null,
   "metadata": {},
   "outputs": [],
   "source": [
    "data_files = Path(data_path, \"data\").resolve()\n",
    "[os.path.basename(file) for file in data_files.glob('*.csv')]"
   ]
  },
  {
   "cell_type": "code",
   "execution_count": null,
   "metadata": {},
   "outputs": [],
   "source": [
    "os.path.abspath(\"train.csv\")"
   ]
  },
  {
   "cell_type": "markdown",
   "metadata": {},
   "source": [
    "# Loading data"
   ]
  },
  {
   "cell_type": "code",
   "execution_count": null,
   "metadata": {},
   "outputs": [],
   "source": [
    "df_train = pd.read_csv(os.path.join(data_path, \"data\", \"train.csv\"))\n",
    "df_train.head(10)"
   ]
  },
  {
   "cell_type": "code",
   "execution_count": null,
   "metadata": {},
   "outputs": [],
   "source": [
    "df_train.shape"
   ]
  },
  {
   "cell_type": "markdown",
   "metadata": {},
   "source": [
    "## SQLite"
   ]
  },
  {
   "cell_type": "code",
   "execution_count": null,
   "metadata": {},
   "outputs": [],
   "source": [
    "import sqlite3"
   ]
  },
  {
   "cell_type": "code",
   "execution_count": null,
   "metadata": {},
   "outputs": [],
   "source": [
    "connection = sqlite3.connect(r'houses.db')\n",
    "sql_query = \"\"\"SELECT * FROM concatenated_data_csv\"\"\"\n",
    "df = pd.read_sql(sql=sql_query, con=connection)"
   ]
  },
  {
   "cell_type": "code",
   "execution_count": null,
   "metadata": {},
   "outputs": [],
   "source": [
    "df_test = pd.read_csv(os.path.join(data_path, 'data', 'test.csv'))\n",
    "df_train.head(10)"
   ]
  },
  {
   "cell_type": "code",
   "execution_count": null,
   "metadata": {},
   "outputs": [],
   "source": [
    "df_test.shape"
   ]
  },
  {
   "cell_type": "markdown",
   "metadata": {},
   "source": [
    "## Concatenating the Datasets"
   ]
  },
  {
   "cell_type": "code",
   "execution_count": null,
   "metadata": {},
   "outputs": [],
   "source": [
    "df_concat = pd.concat([df_train, df_test], ignore_index=True)\n",
    "df_concat.head(10)"
   ]
  },
  {
   "cell_type": "code",
   "execution_count": null,
   "metadata": {},
   "outputs": [],
   "source": [
    "df_concat.shape"
   ]
  },
  {
   "cell_type": "code",
   "execution_count": null,
   "metadata": {},
   "outputs": [],
   "source": [
    "df_concat.info()"
   ]
  },
  {
   "cell_type": "code",
   "execution_count": null,
   "metadata": {},
   "outputs": [],
   "source": [
    "df_concat.to_csv(r'C:\\Users\\viniciushc\\Git_Vinicius\\House_Prices\\data\\concatenated_data.csv', index=False, sep=',', encoding='utf8')"
   ]
  },
  {
   "cell_type": "markdown",
   "metadata": {},
   "source": [
    "# Renaming Columns"
   ]
  },
  {
   "cell_type": "code",
   "execution_count": null,
   "metadata": {},
   "outputs": [],
   "source": [
    "df_concat.columns = map(str.lower, df_concat.columns)"
   ]
  },
  {
   "cell_type": "code",
   "execution_count": null,
   "metadata": {},
   "outputs": [],
   "source": [
    "df_concat.columns"
   ]
  },
  {
   "cell_type": "code",
   "execution_count": null,
   "metadata": {},
   "outputs": [],
   "source": [
    "drop_cols = ['id']\n",
    "df_concat.drop(drop_cols, axis = 1, inplace = True)"
   ]
  },
  {
   "cell_type": "code",
   "execution_count": null,
   "metadata": {},
   "outputs": [],
   "source": [
    "columns_null_values = df_concat.columns[df_concat.isnull().any()]"
   ]
  },
  {
   "cell_type": "code",
   "execution_count": null,
   "metadata": {},
   "outputs": [],
   "source": [
    "df_concat[columns_null_values].isnull().sum()"
   ]
  },
  {
   "cell_type": "code",
   "execution_count": null,
   "metadata": {},
   "outputs": [],
   "source": [
    "# square feet\n",
    "lotarea = df_concat['lotarea']\n",
    "\n",
    "for square_feet in (lotarea.max(), lotarea.min(), lotarea.mean(), lotarea.median()):\n",
    "    print(f\"Max value for Lot Area = {square_feet:.2f}\", end=f\"{' > '*5:5}\")\n",
    "    print(f\"Square Feets = {square_feet / 10.764:.2f}m²\")"
   ]
  },
  {
   "cell_type": "code",
   "execution_count": null,
   "metadata": {},
   "outputs": [],
   "source": [
    "df_mszoning = df_concat.groupby('mszoning')\n",
    "df_mszoning_desc = df_mszoning['saleprice'].describe()\n",
    "df_mszoning_desc.round(2)"
   ]
  },
  {
   "cell_type": "code",
   "execution_count": null,
   "metadata": {},
   "outputs": [],
   "source": [
    "df_concat[['lotarea', 'saleprice']].aggregate(['min', 'mean', 'max']).round(2)"
   ]
  },
  {
   "cell_type": "code",
   "execution_count": null,
   "metadata": {},
   "outputs": [],
   "source": [
    "df_concat['saleprice'].hist()"
   ]
  },
  {
   "cell_type": "code",
   "execution_count": null,
   "metadata": {},
   "outputs": [],
   "source": [
    "df_concat[['lotarea', 'overallqual']].aggregate(['min', 'mean', 'max']).round(2)"
   ]
  },
  {
   "cell_type": "code",
   "execution_count": null,
   "metadata": {},
   "outputs": [],
   "source": [
    "df_overal_quality_desc = df_concat.groupby('overallqual')\n",
    "df_overal_quality_desc = df_overal_quality_desc['saleprice'].describe()\n",
    "df_overal_quality_desc.round(2)"
   ]
  },
  {
   "cell_type": "code",
   "execution_count": null,
   "metadata": {},
   "outputs": [],
   "source": [
    "df_concat['overallqual'].hist()"
   ]
  },
  {
   "cell_type": "code",
   "execution_count": null,
   "metadata": {},
   "outputs": [],
   "source": [
    "df_concat[['overallqual', 'saleprice']].corr()"
   ]
  },
  {
   "cell_type": "code",
   "execution_count": null,
   "metadata": {},
   "outputs": [],
   "source": [
    "plt.figure(figsize=(30, 15))\n",
    "sns.heatmap(df_concat.corr(), annot=True, center = 0.01, robust = True, linecolor = 'black', alpha = 0.9)\n",
    "plt.show()"
   ]
  },
  {
   "cell_type": "code",
   "execution_count": null,
   "metadata": {},
   "outputs": [],
   "source": [
    "hist, ax = plt.subplots(figsize = (12, 8))\n",
    "\n",
    "ax = sns.distplot(df_concat['grlivarea'], kde = True, color = 'black', norm_hist = True)\n",
    "ax.set_title(\"Living area\")\n",
    "plt.show()"
   ]
  },
  {
   "cell_type": "code",
   "execution_count": null,
   "metadata": {},
   "outputs": [],
   "source": [
    "mu = df_concat['saleprice'].mean()\n",
    "count_saleprice = df_concat['saleprice'].count()\n",
    "somatoria = [((x - mu)**2) for x in df_concat['saleprice'] if not np.isnan(x)]\n",
    "sigma = math.sqrt(sum(somatoria) / count_saleprice)\n",
    "print(f\"mu = {mu:.2f} ::: sigma = {sigma:.2f}\")"
   ]
  },
  {
   "cell_type": "markdown",
   "metadata": {},
   "source": [
    "# Slope Coefficient"
   ]
  },
  {
   "cell_type": "markdown",
   "metadata": {},
   "source": [
    "## Finding the Beta value\n",
    "### $\\color{blue}\\beta$=$\\frac{\\frac{\\sum x.y}{n} - \\frac{\\sum x.\\sum y}{n}}{\\frac{\\sum x^2}{n} - \\left (\\frac{\\sum x}{n} \\right)^2}$"
   ]
  },
  {
   "cell_type": "code",
   "execution_count": null,
   "metadata": {},
   "outputs": [],
   "source": [
    "df_sale_grlivarea = df_concat[['grlivarea', 'saleprice']]\n",
    "df_sale_grlivarea.columns = ['X', 'Y']"
   ]
  },
  {
   "cell_type": "code",
   "execution_count": null,
   "metadata": {},
   "outputs": [],
   "source": [
    "df_sale_grlivarea.sort_values(by=['Y']).head()"
   ]
  },
  {
   "cell_type": "code",
   "execution_count": null,
   "metadata": {},
   "outputs": [],
   "source": [
    "df_sale_grlivarea['X²'] = df_sale_grlivarea['X'].apply(lambda x: x ** 2)"
   ]
  },
  {
   "cell_type": "code",
   "execution_count": null,
   "metadata": {},
   "outputs": [],
   "source": [
    "df_sale_grlivarea_notnull = df_sale_grlivarea[df_sale_grlivarea.Y.isnull() == False]"
   ]
  },
  {
   "cell_type": "code",
   "execution_count": null,
   "metadata": {},
   "outputs": [],
   "source": [
    "x = df_sale_grlivarea_notnull.X.to_list()\n",
    "y = df_sale_grlivarea_notnull.Y.to_list()\n",
    "len(x), len(y)"
   ]
  },
  {
   "cell_type": "code",
   "execution_count": null,
   "metadata": {},
   "outputs": [],
   "source": [
    "df_find_beta = df_sale_grlivarea_notnull.copy()\n",
    "df_find_beta.head()"
   ]
  },
  {
   "cell_type": "code",
   "execution_count": null,
   "metadata": {},
   "outputs": [],
   "source": [
    "df_find_beta['x_minus_mean'] = df_find_beta.X.apply(lambda x: np.abs(x - np.mean(df_find_beta.X)))\n",
    "df_find_beta['y_minus_mean'] = df_find_beta.Y.apply(lambda x: np.abs(x - np.mean(df_find_beta.Y)))\n",
    "df_find_beta.head()"
   ]
  },
  {
   "cell_type": "code",
   "execution_count": null,
   "metadata": {},
   "outputs": [],
   "source": [
    "new_way_to_find_beta = np.sum(df_find_beta['x_minus_mean'] * df_find_beta['y_minus_mean']) / np.sum(df_find_beta['x_minus_mean'] ** 2)\n",
    "new_way_to_find_beta"
   ]
  },
  {
   "cell_type": "code",
   "execution_count": null,
   "metadata": {},
   "outputs": [],
   "source": [
    "5.365079 * 10 ** 6"
   ]
  },
  {
   "cell_type": "code",
   "execution_count": null,
   "metadata": {},
   "outputs": [],
   "source": [
    "df_find_beta['x_minus_mean'] * df_find_beta['y_minus_mean']"
   ]
  },
  {
   "cell_type": "code",
   "execution_count": null,
   "metadata": {},
   "outputs": [],
   "source": [
    "df_find_beta['y_minus_mean'] * df_find_beta['x_minus_mean']"
   ]
  },
  {
   "cell_type": "code",
   "execution_count": null,
   "metadata": {},
   "outputs": [],
   "source": [
    "np.sum(df_find_beta['y_minus_mean']) - (new_way_to_find_beta * np.sum(df_find_beta['x_minus_mean']))"
   ]
  },
  {
   "cell_type": "code",
   "execution_count": null,
   "metadata": {},
   "outputs": [],
   "source": [
    "sum_x_y = np.mean(np.array(x).sum() * np.array(y).sum())\n",
    "sum_x_y"
   ]
  },
  {
   "cell_type": "code",
   "execution_count": null,
   "metadata": {},
   "outputs": [],
   "source": [
    "np.mean(np.array(x) * np.array(y))"
   ]
  },
  {
   "cell_type": "code",
   "execution_count": null,
   "metadata": {},
   "outputs": [],
   "source": [
    "sns.regplot(x=\"X\", y=\"Y\", data=df_sale_grlivarea_notnull);"
   ]
  },
  {
   "cell_type": "code",
   "execution_count": null,
   "metadata": {},
   "outputs": [],
   "source": [
    "b, a = np.polyfit(x, y, deg=1)\n",
    "b, a"
   ]
  },
  {
   "cell_type": "code",
   "execution_count": null,
   "metadata": {},
   "outputs": [],
   "source": [
    "mean_xy = np.mean(np.array(x) * np.array(y))\n",
    "mean_x = np.mean(np.array(x))\n",
    "mean_y = np.mean(np.array(y))\n",
    "mean_x2 = np.mean(np.array(x) ** 2)\n",
    "mean2_x = np.mean(np.array(x)) ** 2\n",
    "m = (mean_xy - mean_x * mean_y) / (mean_x2 - mean2_x)\n",
    "m"
   ]
  },
  {
   "cell_type": "code",
   "execution_count": null,
   "metadata": {},
   "outputs": [],
   "source": [
    "def beta_value(x: list, y: list) -> float:\n",
    "    \"\"\"Function to calculate the beta value from two variables\"\"\"\n",
    "\n",
    "    assert len(x) == len(y), \"Expected the same length for x and y.\"\n",
    "\n",
    "    array_x = np.array(x)\n",
    "    array_y = np.array(y)\n",
    "\n",
    "    mean_xy = np.mean(array_x * array_y)\n",
    "    meanx_meany = array_x.mean() * array_y.mean()\n",
    "    mean_x2 = np.mean(array_x ** 2)\n",
    "    mean2_x = np.mean(array_x) ** 2\n",
    "\n",
    "    beta = (mean_xy - meanx_meany) / (mean_x2 - mean2_x)\n",
    "\n",
    "    return beta\n",
    "\n",
    "\n",
    "beta = beta_value(x, y)\n",
    "print(f'The Beta given x and y is equal to: {beta}')"
   ]
  },
  {
   "cell_type": "markdown",
   "metadata": {},
   "source": [
    "## Intercept"
   ]
  },
  {
   "cell_type": "markdown",
   "metadata": {},
   "source": [
    "### 1. $A\\;$=$\\;\\bar{y} - \\beta . \\bar{x}$\n",
    "### OR \n",
    "### 2. $A\\;$=$\\;\\frac{\\sum y - \\beta.\\sum{x}}{n}$"
   ]
  },
  {
   "cell_type": "code",
   "execution_count": null,
   "metadata": {},
   "outputs": [],
   "source": [
    "y_bar = np.mean(y)\n",
    "x_bar = np.mean(x)\n",
    "A_i = y_bar - beta * x_bar\n",
    "A_i"
   ]
  },
  {
   "cell_type": "markdown",
   "metadata": {},
   "source": [
    "### Real X = 1710\n",
    "### Real Y = 208500.0\n",
    "\n",
    "720\t\n",
    "\n",
    " 34900.0\n",
    "244659.23849107124"
   ]
  },
  {
   "cell_type": "code",
   "execution_count": null,
   "metadata": {},
   "outputs": [],
   "source": [
    "y_predict = A_i + new_way_to_find_beta * 1710\n",
    "y_predict"
   ]
  },
  {
   "cell_type": "code",
   "execution_count": null,
   "metadata": {},
   "outputs": [],
   "source": [
    "y_pred = [A_i + beta * xi for xi in x]"
   ]
  },
  {
   "cell_type": "code",
   "execution_count": null,
   "metadata": {},
   "outputs": [],
   "source": [
    "y_pred"
   ]
  },
  {
   "cell_type": "code",
   "execution_count": null,
   "metadata": {},
   "outputs": [],
   "source": [
    "df_sale_grlivarea_notnull['x.y'] = df_sale_grlivarea_notnull.X * df_sale_grlivarea_notnull.Y"
   ]
  },
  {
   "cell_type": "code",
   "execution_count": null,
   "metadata": {},
   "outputs": [],
   "source": [
    "df_sale_grlivarea_notnull.head()"
   ]
  },
  {
   "cell_type": "code",
   "execution_count": null,
   "metadata": {},
   "outputs": [],
   "source": [
    "mean_xy = np.mean(df_sale_grlivarea_notnull['x.y'])\n",
    "mean_x = np.mean(df_sale_grlivarea_notnull['X'])\n",
    "mean_y = np.mean(df_sale_grlivarea_notnull['Y'])\n",
    "mean_x2 = np.mean(df_sale_grlivarea_notnull['X²'])\n",
    "mean2_x = np.mean(df_sale_grlivarea_notnull['X']) ** 2\n",
    "m = (mean_xy - mean_x * mean_y) / (mean_x2 - mean2_x)\n",
    "m"
   ]
  },
  {
   "cell_type": "code",
   "execution_count": null,
   "metadata": {},
   "outputs": [],
   "source": [
    "b = (mean_x2 * mean_y - mean_x * mean_xy) / (mean_x2 - mean2_x)\n",
    "b"
   ]
  },
  {
   "cell_type": "code",
   "execution_count": null,
   "metadata": {},
   "outputs": [],
   "source": [
    "y_predict = b + m * 1710\n",
    "y_predict"
   ]
  },
  {
   "cell_type": "code",
   "execution_count": null,
   "metadata": {},
   "outputs": [],
   "source": [
    "y_predict = 18569.02585649 + 107.13035897 * 1256\n",
    "y_predict"
   ]
  },
  {
   "cell_type": "code",
   "execution_count": null,
   "metadata": {},
   "outputs": [],
   "source": [
    "y_hat = [A_i + (beta * xi) for xi in x]\n",
    "y_hat"
   ]
  },
  {
   "cell_type": "code",
   "execution_count": null,
   "metadata": {},
   "outputs": [],
   "source": [
    "df_sale_grlivarea_notnull['y_hat'] = y_hat\n",
    "df_sale_grlivarea_notnull.head()"
   ]
  },
  {
   "cell_type": "code",
   "execution_count": null,
   "metadata": {},
   "outputs": [],
   "source": [
    "df_sale_grlivarea_notnull['desvio_y'] = df_sale_grlivarea_notnull.Y.apply(lambda x: np.abs(x - np.mean(df_sale_grlivarea_notnull.Y)) ** 2)"
   ]
  },
  {
   "cell_type": "code",
   "execution_count": null,
   "metadata": {},
   "outputs": [],
   "source": [
    "df_sale_grlivarea_notnull['desvio_x'] = df_sale_grlivarea_notnull.X.apply(lambda x: np.abs(x - np.mean(df_sale_grlivarea_notnull.X)) ** 2)\n",
    "df_sale_grlivarea_notnull.head()"
   ]
  },
  {
   "cell_type": "code",
   "execution_count": null,
   "metadata": {},
   "outputs": [],
   "source": [
    "variancia_x = np.sum(df_sale_grlivarea_notnull['desvio_x']) / df_sale_grlivarea_notnull.shape[0]\n",
    "variancia_y = np.sum(df_sale_grlivarea_notnull['desvio_y']) / df_sale_grlivarea_notnull.shape[0]\n",
    "variancia_x, variancia_y"
   ]
  },
  {
   "cell_type": "code",
   "execution_count": null,
   "metadata": {},
   "outputs": [],
   "source": [
    "sigma_x = np.sqrt(variancia_x)\n",
    "sigma_y = np.sqrt(variancia_y)\n",
    "sigma_x, sigma_y"
   ]
  },
  {
   "cell_type": "code",
   "execution_count": null,
   "metadata": {},
   "outputs": [],
   "source": [
    "yi = df_sale_grlivarea_notnull.Y[0]\n",
    "yii = df_sale_grlivarea_notnull.Y[1]\n",
    "\n",
    "xi = df_sale_grlivarea_notnull.X[0]\n",
    "xii = df_sale_grlivarea_notnull.X[1]\n",
    "(yii - yi) / (xii - xi)"
   ]
  },
  {
   "cell_type": "code",
   "execution_count": null,
   "metadata": {},
   "outputs": [],
   "source": [
    "# Initialize layout\n",
    "fig, ax = plt.subplots(figsize = (9, 9))\n",
    "\n",
    "# Add scatterplot\n",
    "ax.scatter(x, y, s=60, alpha=0.7, edgecolors=\"k\")\n",
    "\n",
    "ax.plot(x, y_pred, 'k--', color='red')"
   ]
  },
  {
   "cell_type": "markdown",
   "metadata": {},
   "source": [
    "# Linear Regressions Test"
   ]
  },
  {
   "cell_type": "code",
   "execution_count": null,
   "metadata": {},
   "outputs": [],
   "source": [
    "import matplotlib.pyplot as plt\n",
    "import numpy as np\n",
    "from sklearn import datasets, linear_model\n",
    "from sklearn.metrics import mean_squared_error, r2_score"
   ]
  },
  {
   "cell_type": "code",
   "execution_count": null,
   "metadata": {},
   "outputs": [],
   "source": [
    "# Create linear regression object\n",
    "regr = linear_model.LinearRegression()"
   ]
  },
  {
   "cell_type": "code",
   "execution_count": null,
   "metadata": {},
   "outputs": [],
   "source": [
    "y_array = np.array(y).reshape(-1, 1)\n",
    "x_array = np.array(x).reshape(-1, 1)"
   ]
  },
  {
   "cell_type": "code",
   "execution_count": null,
   "metadata": {},
   "outputs": [],
   "source": [
    "# Train the model using the training sets\n",
    "regr.fit(x_array, y_array)"
   ]
  },
  {
   "cell_type": "code",
   "execution_count": null,
   "metadata": {},
   "outputs": [],
   "source": [
    "regr.coef_"
   ]
  },
  {
   "cell_type": "code",
   "execution_count": null,
   "metadata": {},
   "outputs": [],
   "source": [
    "# Make predictions using the testing set\n",
    "_y_pred = regr.predict(np.array(y).reshape(-1, 1))\n",
    "\n",
    "# The coefficients\n",
    "print(\"Coefficients: \\n\", regr.coef_)\n",
    "# The mean squared error\n",
    "print(\"Mean squared error: %.2f\" % mean_squared_error(np.array(y).reshape(-1, 1), _y_pred))\n",
    "# The coefficient of determination: 1 is perfect prediction\n",
    "print(\"Coefficient of determination: %.2f\" % r2_score(np.array(y).reshape(-1, 1), _y_pred))\n",
    "\n",
    "# Plot outputs\n",
    "plt.scatter(np.array(x).reshape(-1, 1), np.array(y).reshape(-1, 1), color=\"black\")\n",
    "plt.plot(np.array(x).reshape(-1, 1), _y_pred, color=\"blue\", linewidth=3)\n",
    "\n",
    "plt.xticks(())\n",
    "plt.yticks(())\n",
    "\n",
    "plt.show()"
   ]
  },
  {
   "cell_type": "code",
   "execution_count": null,
   "metadata": {},
   "outputs": [],
   "source": [
    "len(np.array(y).reshape(-1, 1))"
   ]
  },
  {
   "cell_type": "code",
   "execution_count": null,
   "metadata": {},
   "outputs": [],
   "source": [
    "from sklearn import linear_model\n",
    "lm = linear_model.LinearRegression()\n",
    "lm.fit(np.array(x).reshape(-1, 1), np.array(y).reshape(-1, 1))\n",
    "\n",
    "mae_sum = 0\n",
    "for sale, x in zip(np.array(y).reshape(-1, 1), np.array(x).reshape(-1, 1)):\n",
    "    prediction = lm.predict(np.array(x).reshape(-1, 1))\n",
    "    mae_sum += abs(np.array(y).reshape(-1, 1) - np.array(df_sale_grlivarea_notnull['y_hat']).reshape(-1, 1))\n",
    "mae = mae_sum / len(np.array(y).reshape(-1, 1))\n",
    "\n",
    "print(mae)"
   ]
  },
  {
   "cell_type": "code",
   "execution_count": null,
   "metadata": {},
   "outputs": [],
   "source": [
    "np.array(df_sale_grlivarea_notnull['y_hat']).reshape(-1, 1)"
   ]
  },
  {
   "cell_type": "code",
   "execution_count": null,
   "metadata": {},
   "outputs": [],
   "source": [
    "np.array(x).reshape(-1, 1)"
   ]
  },
  {
   "cell_type": "markdown",
   "metadata": {},
   "source": [
    "$x_{1,2}$=$\\frac{-b\\pm\\sqrt{\\color{Red}b^2-4ac}}{2a}$"
   ]
  },
  {
   "cell_type": "code",
   "execution_count": null,
   "metadata": {},
   "outputs": [],
   "source": [
    "number_minus_mean = [number - mu for number in df_concat['saleprice'][:10]]\n",
    "number_minus_mean"
   ]
  },
  {
   "cell_type": "code",
   "execution_count": null,
   "metadata": {},
   "outputs": [],
   "source": [
    "number_powers_two = [number ** 2 for number in number_minus_mean]\n",
    "number_powers_two"
   ]
  },
  {
   "cell_type": "code",
   "execution_count": null,
   "metadata": {},
   "outputs": [],
   "source": [
    "TSS = sum(number_powers_two)\n",
    "TSS"
   ]
  },
  {
   "cell_type": "markdown",
   "metadata": {},
   "source": [
    "# $y_{i}$ = $\\alpha$ + $\\beta x_{i}$ + $\\varepsilon_{i}$"
   ]
  },
  {
   "cell_type": "code",
   "execution_count": null,
   "metadata": {},
   "outputs": [],
   "source": [
    "from sklearn import linear_model\n",
    "lm = linear_model.LinearRegression()"
   ]
  },
  {
   "cell_type": "code",
   "execution_count": null,
   "metadata": {},
   "outputs": [],
   "source": [
    "y = df_concat['saleprice'][:10]\n",
    "x = df_concat['grlivarea'][:10]"
   ]
  },
  {
   "cell_type": "code",
   "execution_count": null,
   "metadata": {},
   "outputs": [],
   "source": [
    "slope, intercept, r, p, se = stats.linregress(x, y)"
   ]
  },
  {
   "cell_type": "code",
   "execution_count": null,
   "metadata": {},
   "outputs": [],
   "source": [
    "print(\" SLOPE = \", slope, \"\\n\", \"INTERCEPT = \", intercept, \"\\n\", \"R = \", r, \"\\n\", \"P = \", p, \"\\n\", \"SE = \", se)"
   ]
  },
  {
   "cell_type": "code",
   "execution_count": null,
   "metadata": {},
   "outputs": [],
   "source": [
    "hist, ax = plt.subplots(figsize = (12, 8))\n",
    "\n",
    "ax = sns.distplot(df_concat['saleprice'], kde = True, color = 'red', norm_hist = True, fit=norm)\n",
    "ax.set_title(\"saleprice\")\n",
    "plt.legend([f'Normal distribution ($\\mu=$ {mu:.2f} and $\\sigma=$ {sigma:.2f} )'])\n",
    "plt.ylabel('Frequency')\n",
    "plt.title('saleprice distribution')\n",
    "\n",
    "plt.show()"
   ]
  },
  {
   "cell_type": "code",
   "execution_count": null,
   "metadata": {},
   "outputs": [],
   "source": [
    "outlier = (df_concat['grlivarea'] > 4000) & (df_concat['saleprice'] < 300000)\n",
    "outlier"
   ]
  },
  {
   "cell_type": "code",
   "execution_count": null,
   "metadata": {},
   "outputs": [],
   "source": [
    "plt.figure(figsize=(12, 8))\n",
    "sns.scatterplot(data = df_concat,\n",
    "                x = 'grlivarea',\n",
    "                y = 'saleprice',\n",
    "                hue = outlier,\n",
    "                alpha = 0.9,\n",
    "                )"
   ]
  },
  {
   "cell_type": "markdown",
   "metadata": {},
   "source": [
    "## DROP OUTLIERS"
   ]
  },
  {
   "cell_type": "code",
   "execution_count": null,
   "metadata": {},
   "outputs": [],
   "source": [
    "drop_outliers = df_concat[outlier == True].index\n",
    "df_concat.drop(drop_outliers, inplace=True)"
   ]
  },
  {
   "cell_type": "code",
   "execution_count": null,
   "metadata": {},
   "outputs": [],
   "source": [
    "plt.figure(figsize=(12, 8))\n",
    "sns.scatterplot(data = df_concat,\n",
    "                x = 'grlivarea',\n",
    "                y = 'saleprice',\n",
    "                alpha = 0.9,\n",
    "                )"
   ]
  },
  {
   "cell_type": "code",
   "execution_count": null,
   "metadata": {},
   "outputs": [],
   "source": [
    "sns.jointplot('grlivarea', 'saleprice', data=df_concat, kind = 'kde')"
   ]
  },
  {
   "cell_type": "code",
   "execution_count": null,
   "metadata": {},
   "outputs": [],
   "source": [
    "sns.lmplot(x ='grlivarea', y ='saleprice', data = df_concat,scatter_kws={'alpha':0.5},line_kws={'color':'red'} )"
   ]
  },
  {
   "cell_type": "code",
   "execution_count": null,
   "metadata": {},
   "outputs": [],
   "source": [
    "df_concat['saleprice'][0]"
   ]
  },
  {
   "cell_type": "code",
   "execution_count": null,
   "metadata": {},
   "outputs": [],
   "source": [
    "np.log10(df_concat['saleprice'][0])"
   ]
  },
  {
   "cell_type": "code",
   "execution_count": null,
   "metadata": {},
   "outputs": [],
   "source": [
    "np.log1p(df_concat['saleprice'][0])"
   ]
  },
  {
   "cell_type": "code",
   "execution_count": null,
   "metadata": {},
   "outputs": [],
   "source": [
    "np.log2(df_concat['saleprice'][0])"
   ]
  },
  {
   "cell_type": "code",
   "execution_count": null,
   "metadata": {},
   "outputs": [],
   "source": [
    "x = df_concat['saleprice'][:10]\n",
    "y = df_concat['grlivarea'][:10]"
   ]
  },
  {
   "cell_type": "code",
   "execution_count": null,
   "metadata": {},
   "outputs": [],
   "source": [
    "slope_intercept = np.polyfit(x, y, 1)\n",
    "\n",
    "print(slope_intercept)"
   ]
  },
  {
   "cell_type": "markdown",
   "metadata": {},
   "source": [
    "# Statisticals Tests"
   ]
  },
  {
   "cell_type": "code",
   "execution_count": null,
   "metadata": {},
   "outputs": [],
   "source": [
    "import statsmodels.api as sm\n",
    "from scipy import stats\n",
    "import numpy as np\n",
    "from patsy import dmatrices"
   ]
  },
  {
   "cell_type": "code",
   "execution_count": null,
   "metadata": {},
   "outputs": [],
   "source": [
    "df = sm.datasets.get_rdataset(\"Guerry\", \"HistData\").data"
   ]
  },
  {
   "cell_type": "code",
   "execution_count": null,
   "metadata": {},
   "outputs": [],
   "source": [
    "vars = ['Department', 'Lottery', 'Literacy', 'Wealth', 'Region']\n",
    "df = df[vars]\n",
    "df = df.dropna()\n",
    "df['Region'].unique()"
   ]
  },
  {
   "cell_type": "code",
   "execution_count": null,
   "metadata": {},
   "outputs": [],
   "source": [
    "Y, X = dmatrices('Lottery ~ Literacy + Wealth + Region', data=df, return_type='dataframe')"
   ]
  },
  {
   "cell_type": "code",
   "execution_count": null,
   "metadata": {},
   "outputs": [],
   "source": [
    "slope, intercept, r_value, p_value, std_err = stats.linregress(x,y)\n",
    "slope, intercept, r_value, p_value, std_err"
   ]
  },
  {
   "cell_type": "code",
   "execution_count": null,
   "metadata": {},
   "outputs": [],
   "source": [
    "XX = sm.add_constant(x)\n",
    "len(XX)"
   ]
  },
  {
   "cell_type": "code",
   "execution_count": null,
   "metadata": {},
   "outputs": [],
   "source": [
    "result = sm.OLS(y, XX).fit()\n",
    "print(result.params)\n",
    "print(result.summary())"
   ]
  },
  {
   "cell_type": "code",
   "execution_count": null,
   "metadata": {},
   "outputs": [],
   "source": [
    "result.pvalues"
   ]
  },
  {
   "cell_type": "code",
   "execution_count": null,
   "metadata": {},
   "outputs": [],
   "source": [
    "4.51803365 * 10 ** -4"
   ]
  }
 ],
 "metadata": {
  "kernelspec": {
   "display_name": "Python 3.10.4 ('house_prices')",
   "language": "python",
   "name": "python3"
  },
  "language_info": {
   "codemirror_mode": {
    "name": "ipython",
    "version": 3
   },
   "file_extension": ".py",
   "mimetype": "text/x-python",
   "name": "python",
   "nbconvert_exporter": "python",
   "pygments_lexer": "ipython3",
   "version": "3.10.4"
  },
  "orig_nbformat": 4,
  "vscode": {
   "interpreter": {
    "hash": "8a34368bd45ad382a3961332f158568e83c3539ee760daa5f7417eafa00ecbed"
   }
  }
 },
 "nbformat": 4,
 "nbformat_minor": 2
}
